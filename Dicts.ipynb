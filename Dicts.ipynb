{
  "nbformat": 4,
  "nbformat_minor": 0,
  "metadata": {
    "colab": {
      "name": "Untitled1.ipynb",
      "provenance": [],
      "authorship_tag": "ABX9TyNPhomETCgnpnDNkg87/Jzm",
      "include_colab_link": true
    },
    "kernelspec": {
      "name": "python3",
      "display_name": "Python 3"
    }
  },
  "cells": [
    {
      "cell_type": "markdown",
      "metadata": {
        "id": "view-in-github",
        "colab_type": "text"
      },
      "source": [
        "<a href=\"https://colab.research.google.com/github/jcallum/hello-world/blob/master/Dicts.ipynb\" target=\"_parent\"><img src=\"https://colab.research.google.com/assets/colab-badge.svg\" alt=\"Open In Colab\"/></a>"
      ]
    },
    {
      "cell_type": "code",
      "metadata": {
        "id": "DOvn7-BlqJXj",
        "outputId": "829fada1-a223-4c96-bde3-eb22b708a5b8",
        "colab": {
          "base_uri": "https://localhost:8080/",
          "height": 34
        }
      },
      "source": [
        "dict = {\"John\": 76, \"Sheryl\": 69, \"Andrew\":52, \"Jeannie\":51}\n",
        "print(dict)"
      ],
      "execution_count": 1,
      "outputs": [
        {
          "output_type": "stream",
          "text": [
            "{'John': 76, 'Sheryl': 69, 'Andrew': 52, 'Jeannie': 51}\n"
          ],
          "name": "stdout"
        }
      ]
    },
    {
      "cell_type": "code",
      "metadata": {
        "id": "LbWGiRhMqtCc",
        "outputId": "94d001ff-8485-403c-b091-2941a269df3e",
        "colab": {
          "base_uri": "https://localhost:8080/",
          "height": 85
        }
      },
      "source": [
        "for item in dict.items():\n",
        "  print(item)"
      ],
      "execution_count": 2,
      "outputs": [
        {
          "output_type": "stream",
          "text": [
            "('John', 76)\n",
            "('Sheryl', 69)\n",
            "('Andrew', 52)\n",
            "('Jeannie', 51)\n"
          ],
          "name": "stdout"
        }
      ]
    },
    {
      "cell_type": "code",
      "metadata": {
        "id": "qNVOSGSUrC_w",
        "outputId": "f1f6eec5-1465-4afc-9587-e4c36ce35d28",
        "colab": {
          "base_uri": "https://localhost:8080/",
          "height": 34
        }
      },
      "source": [
        "age = dict.get(\"John\")\n",
        "print(age)\n"
      ],
      "execution_count": 3,
      "outputs": [
        {
          "output_type": "stream",
          "text": [
            "76\n"
          ],
          "name": "stdout"
        }
      ]
    },
    {
      "cell_type": "code",
      "metadata": {
        "id": "Kdjk_sNXf1gy",
        "outputId": "b0330bbe-398a-4c2b-cc62-75db8788861c",
        "colab": {
          "base_uri": "https://localhost:8080/",
          "height": 34
        }
      },
      "source": [
        "if 'John' in dict:\n",
        "  print('found')\n",
        "else:\n",
        "  print('not found')"
      ],
      "execution_count": 60,
      "outputs": [
        {
          "output_type": "stream",
          "text": [
            "found\n"
          ],
          "name": "stdout"
        }
      ]
    },
    {
      "cell_type": "code",
      "metadata": {
        "id": "o_KR4Vh4rcTo"
      },
      "source": [
        "nested_dictionary = {\"icao\":\"CYYZ\",\n",
        "                     \"wind\": {\"dir\":\"90\",\"speed\":\"10\"},\n",
        "                     \"visibility\":\"CLR\"}\n"
      ],
      "execution_count": 71,
      "outputs": []
    },
    {
      "cell_type": "code",
      "metadata": {
        "id": "K3BK6erWtjjg"
      },
      "source": [
        "def get_all_values(nested_dictionary):\n",
        "    for key, value in nested_dictionary.items():\n",
        "        print(type(value))\n",
        "        if type(value) == dict:\n",
        "            print(key)\n",
        "            get_all_values(value)\n",
        "        else:\n",
        "            print(key, \":\", value)"
      ],
      "execution_count": 72,
      "outputs": []
    },
    {
      "cell_type": "code",
      "metadata": {
        "id": "GxMK2vrx8-PJ",
        "outputId": "d0bfe3cf-d9e8-472c-e7e3-bd444e0ead0e",
        "colab": {
          "base_uri": "https://localhost:8080/",
          "height": 119
        }
      },
      "source": [
        "get_all_values(nested_dictionary)\n"
      ],
      "execution_count": 73,
      "outputs": [
        {
          "output_type": "stream",
          "text": [
            "<class 'str'>\n",
            "icao : CYYZ\n",
            "<class 'dict'>\n",
            "wind : {'dir': '90', 'speed': '10'}\n",
            "<class 'str'>\n",
            "visibility : CLR\n"
          ],
          "name": "stdout"
        }
      ]
    },
    {
      "cell_type": "code",
      "metadata": {
        "id": "DmSbkDrMIijk",
        "outputId": "5c455e98-8770-41e9-ac70-34bdbac61ba9",
        "colab": {
          "base_uri": "https://localhost:8080/",
          "height": 51
        }
      },
      "source": [
        "wind = nested_dictionary[\"wind\"]\n",
        "print(type(wind))\n",
        "#if type(wind) is dict:\n",
        "dir = wind[\"dir\"]\n",
        "speed = wind[\"speed\"]\n",
        "if 'gusts' in wind:\n",
        "  gusts = wind['gusts']\n",
        "else:\n",
        "  gusts = \"\"\n",
        "print(dir, speed, gusts)"
      ],
      "execution_count": 74,
      "outputs": [
        {
          "output_type": "stream",
          "text": [
            "<class 'dict'>\n",
            "90 10 \n"
          ],
          "name": "stdout"
        }
      ]
    },
    {
      "cell_type": "code",
      "metadata": {
        "id": "B0Wke-l3NwbW",
        "outputId": "400750f9-d78c-44dc-d4ac-9b8cf3fd903c",
        "colab": {
          "base_uri": "https://localhost:8080/",
          "height": 34
        }
      },
      "source": [
        "print(nested_dictionary[\"wind\"][\"dir\"])\n"
      ],
      "execution_count": 59,
      "outputs": [
        {
          "output_type": "stream",
          "text": [
            "90\n"
          ],
          "name": "stdout"
        }
      ]
    }
  ]
}